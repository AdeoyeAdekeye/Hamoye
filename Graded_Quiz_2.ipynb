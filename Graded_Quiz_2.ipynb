{
  "nbformat": 4,
  "nbformat_minor": 0,
  "metadata": {
    "colab": {
      "provenance": [],
      "authorship_tag": "ABX9TyOhNGA0h29TWvHBBMzTNIqB",
      "include_colab_link": true
    },
    "kernelspec": {
      "name": "python3",
      "display_name": "Python 3"
    },
    "language_info": {
      "name": "python"
    }
  },
  "cells": [
    {
      "cell_type": "markdown",
      "metadata": {
        "id": "view-in-github",
        "colab_type": "text"
      },
      "source": [
        "<a href=\"https://colab.research.google.com/github/AdeoyeAdekeye/Hamoye/blob/main/Graded_Quiz_2.ipynb\" target=\"_parent\"><img src=\"https://colab.research.google.com/assets/colab-badge.svg\" alt=\"Open In Colab\"/></a>"
      ]
    },
    {
      "cell_type": "code",
      "execution_count": 3,
      "metadata": {
        "colab": {
          "base_uri": "https://localhost:8080/"
        },
        "id": "6R70sYvuN2Tf",
        "outputId": "e41d0953-1c7a-421a-db61-8bac096da9e5"
      },
      "outputs": [
        {
          "output_type": "stream",
          "name": "stdout",
          "text": [
            "3.633\n"
          ]
        }
      ],
      "source": [
        "import pandas as pd\n",
        "import seaborn as sns\n",
        "\n",
        "#rename columns\n",
        "column_names = {'X1':'Relative_Compactness', 'X2': 'Surface_Area',\n",
        "                'X3':  'Wall_Area', 'X4': 'Roof_Area', 'X5': 'Overall_Height',\n",
        "                'X6': 'Orientation', 'X7': 'Glazing_Area',\n",
        "                'X8': 'Glazing_Area_Distribution',\n",
        "                'Y1': 'Heating_Load', 'Y2': 'Cooling_Load'}\n",
        "\n",
        "\n",
        "# Import necessary libraries\n",
        "import pandas as pd\n",
        "from sklearn.model_selection import train_test_split\n",
        "from sklearn.linear_model import LinearRegression\n",
        "from sklearn.metrics import mean_squared_error\n",
        "import math\n",
        "\n",
        "# Load the dataset\n",
        "df=pd.read_csv('energydata_complete.csv')\n",
        "# Assuming the dataset has columns 'T2' for the temperature in the living room and 'T6' for the temperature outside the building\n",
        "\n",
        "# Prepare the data\n",
        "X = df[['T2']]\n",
        "y = df['T6']\n",
        "\n",
        "# Split the data into training and testing sets\n",
        "X_train, X_test, y_train, y_test = train_test_split(X, y, test_size=0.2, random_state=42)\n",
        "\n",
        "# Fit a linear model\n",
        "model = LinearRegression()\n",
        "model.fit(X_train, y_train)\n",
        "\n",
        "# Make predictions\n",
        "y_pred = model.predict(X_test)\n",
        "\n",
        "# Calculate the RMSE\n",
        "rmse = math.sqrt(mean_squared_error(y_test, y_pred))\n",
        "\n",
        "# Print the RMSE in three decimal places\n",
        "print(f\"{rmse:.3f}\")\n"
      ]
    },
    {
      "cell_type": "code",
      "source": [
        "# Assuming the dataframe is loaded into df\n",
        "from sklearn.model_selection import train_test_split\n",
        "from sklearn.preprocessing import MinMaxScaler\n",
        "from sklearn.linear_model import LinearRegression\n",
        "from sklearn.metrics import mean_absolute_error\n",
        "\n",
        "# Dropping the specified columns\n",
        "df = df.drop(columns=[\"date\", \"lights\"])\n",
        "\n",
        "# Defining the features and target variable\n",
        "X = df.drop(columns=[\"Appliances\"])\n",
        "y = df[\"Appliances\"]\n",
        "\n",
        "# Performing train-test split\n",
        "X_train, X_test, y_train, y_test = train_test_split(X, y, test_size=0.3, random_state=42)\n",
        "\n",
        "# Normalizing the dataset using MinMaxScaler\n",
        "scaler = MinMaxScaler()\n",
        "X_train = scaler.fit_transform(X_train)\n",
        "X_test = scaler.transform(X_test)\n",
        "\n",
        "# Running multiple linear regression on the training set\n",
        "model = LinearRegression()\n",
        "model.fit(X_train, y_train)\n",
        "\n",
        "# Predicting on the training set\n",
        "y_pred_train = model.predict(X_train)\n",
        "\n",
        "# Calculating Mean Absolute Error for the training set\n",
        "mae_train = mean_absolute_error(y_train, y_pred_train)\n",
        "\n",
        "# Printing the Mean Absolute Error for the training set\n",
        "print(f\"{mae_train:.3f}\")\n"
      ],
      "metadata": {
        "colab": {
          "base_uri": "https://localhost:8080/"
        },
        "id": "UwPzJkWmTM4k",
        "outputId": "84583039-19e0-4b85-b608-901741e7b87a"
      },
      "execution_count": 4,
      "outputs": [
        {
          "output_type": "stream",
          "name": "stdout",
          "text": [
            "53.742\n"
          ]
        }
      ]
    },
    {
      "cell_type": "code",
      "source": [
        "from sklearn.metrics import mean_squared_error\n",
        "import numpy as np\n",
        "\n",
        "# Assuming you have predicted values (y_pred_train) and actual values (y_train) for the training set\n",
        "mse = mean_squared_error(y_train, y_pred_train)\n",
        "rmse = np.sqrt(mse)\n",
        "\n",
        "# Rounding RMSE to three decimal places\n",
        "rmse_rounded = round(rmse, 3)\n",
        "\n",
        "print(f\"The RMSE for the training set is {rmse_rounded:.3f}\")\n"
      ],
      "metadata": {
        "colab": {
          "base_uri": "https://localhost:8080/"
        },
        "id": "8HLdYElxVTdT",
        "outputId": "d65ff5c6-8e83-4ff5-ede6-263dd8ff45ad"
      },
      "execution_count": 9,
      "outputs": [
        {
          "output_type": "stream",
          "name": "stdout",
          "text": [
            "The RMSE for the training set is 95.216\n"
          ]
        }
      ]
    },
    {
      "cell_type": "code",
      "source": [
        "import pandas as pd\n",
        "from sklearn.model_selection import train_test_split\n",
        "from sklearn.linear_model import LinearRegression\n",
        "from sklearn.metrics import mean_squared_error\n",
        "import math\n",
        "\n",
        "# Load the dataset\n",
        "df=pd.read_csv('energydata_complete.csv')\n",
        "# Assuming the dataset has columns 'T2' for the temperature in the living room and 'T6' for the temperature outside the building\n",
        "\n",
        "# Prepare the data\n",
        "X = df[['T2']]\n",
        "y = df['T6']\n",
        "# Assuming the dataframe is loaded into df\n",
        "from sklearn.model_selection import train_test_split\n",
        "from sklearn.preprocessing import MinMaxScaler\n",
        "from sklearn.linear_model import LinearRegression\n",
        "from sklearn.metrics import mean_absolute_error\n",
        "\n",
        "# Dropping the specified columns\n",
        "df = df.drop(columns=[\"date\", \"lights\"])\n",
        "\n",
        "# Defining the features and target variable\n",
        "X = df.drop(columns=[\"Appliances\"])\n",
        "y = df[\"Appliances\"]\n",
        "# Split the data into training and testing sets\n",
        "X_train, X_test, y_train, y_test = train_test_split(X, y, test_size=0.2, random_state=42)\n",
        "\n",
        "# Fit a linear model\n",
        "model = LinearRegression()\n",
        "model.fit(X_train, y_train)\n",
        "\n",
        "# Make predictions\n",
        "y_pred = model.predict(X_test)\n",
        "from sklearn.metrics import mean_absolute_error\n",
        "mae = mean_absolute_error(y_test, y_pred)\n",
        "\n",
        "\n",
        "# Assuming you have predicted values (y_pred_test) and actual values (y_test) for the test set\n",
        "mae_test = mean_absolute_error(y_test, y_pred)\n",
        "\n",
        "# Rounding MAE to three decimal places\n",
        "mae_test_rounded = round(mae_test, 3)\n",
        "\n",
        "print(f\"The Mean Absolute Error for the test set is {mae_test_rounded:.3f}\")\n"
      ],
      "metadata": {
        "colab": {
          "base_uri": "https://localhost:8080/"
        },
        "id": "5JfaSfjFV3pJ",
        "outputId": "ad938b0d-cb50-4444-b056-4d7e27ddada5"
      },
      "execution_count": 28,
      "outputs": [
        {
          "output_type": "stream",
          "name": "stdout",
          "text": [
            "The Mean Absolute Error for the test set is 53.439\n"
          ]
        }
      ]
    },
    {
      "cell_type": "code",
      "source": [
        "import numpy as np\n",
        "from sklearn.metrics import mean_squared_error\n",
        "rmse = np.sqrt(mean_squared_error(y_test, y_pred))\n",
        "round(rmse, 3)"
      ],
      "metadata": {
        "colab": {
          "base_uri": "https://localhost:8080/"
        },
        "id": "5eorcUlLYSXZ",
        "outputId": "288820c6-4d6f-454a-dc96-5809f8332234"
      },
      "execution_count": 33,
      "outputs": [
        {
          "output_type": "execute_result",
          "data": {
            "text/plain": [
              "92.452"
            ]
          },
          "metadata": {},
          "execution_count": 33
        }
      ]
    },
    {
      "cell_type": "code",
      "source": [
        "# Importing necessary libraries\n",
        "from sklearn.linear_model import Lasso\n",
        "import numpy as np\n",
        "\n",
        "# Assuming X_train and y_train are your training data\n",
        "# Fitting Lasso regression model with default value\n",
        "lasso_model = Lasso()\n",
        "lasso_model.fit(X_train, y_train)\n",
        "\n",
        "# Obtaining feature weights\n",
        "feature_weights = lasso_model.coef_\n",
        "\n",
        "# Counting the number of non-zero feature weights\n",
        "non_zero_weights = np.count_nonzero(feature_weights)\n",
        "print(non_zero_weights)\n"
      ],
      "metadata": {
        "colab": {
          "base_uri": "https://localhost:8080/"
        },
        "id": "61XGbCUuZRgl",
        "outputId": "ba902153-d074-4a9d-a046-27864590d35b"
      },
      "execution_count": 35,
      "outputs": [
        {
          "output_type": "stream",
          "name": "stdout",
          "text": [
            "19\n"
          ]
        }
      ]
    },
    {
      "cell_type": "code",
      "source": [
        "from sklearn.metrics import mean_squared_error\n",
        "import numpy as np\n",
        "\n",
        "# Assuming y_true is the true target values and y_pred is the predicted values\n",
        "mse = mean_squared_error(y_test, y_pred)\n",
        "rmse = np.sqrt(mse)\n",
        "print(rmse)"
      ],
      "metadata": {
        "colab": {
          "base_uri": "https://localhost:8080/"
        },
        "id": "L-S3a3mFZrCv",
        "outputId": "960d2f27-3080-4b65-f21a-f6725b07bc01"
      },
      "execution_count": 38,
      "outputs": [
        {
          "output_type": "stream",
          "name": "stdout",
          "text": [
            "92.45228764039227\n"
          ]
        }
      ]
    }
  ]
}